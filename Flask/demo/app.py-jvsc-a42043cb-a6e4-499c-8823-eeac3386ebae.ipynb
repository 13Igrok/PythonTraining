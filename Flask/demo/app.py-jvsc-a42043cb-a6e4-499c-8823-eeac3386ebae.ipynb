{
 "cells": [
  {
   "cell_type": "code",
   "execution_count": null,
   "metadata": {},
   "outputs": [],
   "source": []
  }
 ],
 "metadata": {
  "kernelspec": {
   "display_name": "venv",
   "language": "python",
   "name": "python3"
  },
  "language_info": {
   "codemirror_mode": {
    "name": "ipython",
    "version": 3
   },
   "file_extension": ".py",
   "mimetype": "text/x-python",
   "name": "python",
   "nbconvert_exporter": "python",
   "pygments_lexer": "ipython3",
   "version": "3.11.0rc2 (main, Sep 12 2022, 16:20:24) [GCC 12.2.0]"
  },
  "vscode": {
   "interpreter": {
    "hash": "069f42ab0f57b73b4693278bd2a16536e568fee67bff06d392d268a3117ea160"
   }
  }
 },
 "nbformat": 4,
 "nbformat_minor": 5
}
